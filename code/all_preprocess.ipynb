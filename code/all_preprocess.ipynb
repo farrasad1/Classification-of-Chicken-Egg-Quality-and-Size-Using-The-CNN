{
 "cells": [
  {
   "cell_type": "code",
   "execution_count": null,
   "id": "e94903ee-46ae-4ec5-84d6-348ef27bdf61",
   "metadata": {},
   "outputs": [],
   "source": [
    "# IMPORT LIBRARY"
   ]
  },
  {
   "cell_type": "code",
   "execution_count": 1,
   "id": "a3cc7dcc-0706-49e2-abc7-2982af74bd81",
   "metadata": {},
   "outputs": [],
   "source": [
    "import numpy as np\n",
    "import cv2\n",
    "import imutils\n",
    "import os\n",
    "import scipy\n",
    "import glob\n",
    "import matplotlib.pyplot as plt\n",
    "import matplotlib.image as mpimg"
   ]
  },
  {
   "cell_type": "code",
   "execution_count": null,
   "id": "e96e485e-e98d-4ba7-b2aa-deb71bc7a2ef",
   "metadata": {},
   "outputs": [],
   "source": [
    "# ROI 1 [930:1130, 1160:1360] (200x200) & [930:1157, 1140:1367] (227x227)\n",
    "# ROI 2 [1300:1500, 910:1110] (200x200) & [1300:1527, 910:1137] (227x227)\n",
    "# ROI 3 [1690:1890, 1160:1360] (200x200) & [1643:1870, 1155:1382] (227x227)"
   ]
  },
  {
   "cell_type": "code",
   "execution_count": 8,
   "id": "b7b2057b-d3dc-4e70-9070-2235c0588097",
   "metadata": {},
   "outputs": [],
   "source": [
    "# PREPROCESSING UNTUK DETEKSI PUCAT\n",
    "# Kalo pake ROI yg ukuran 227 gaperlu rescale\n",
    "\n",
    "os.mkdir('C:/Users/muham/Desktop/lelah_TA/fix_data/test_data/preprocess/not_candle/tidak_pucat')\n",
    "path = glob.glob('C:/Users/muham/Desktop/lelah_TA/fix_data/test_data/not_candle/Telur Bagus/*.jpg')\n",
    "\n",
    "i = 0\n",
    "for image in path:\n",
    "    img = cv2.imread(image)\n",
    "    roi_1 = img[1300:1500, 910:1110] # Cropping ROI\n",
    "    median = cv2.medianBlur(roi_1,25) # Blurring Image\n",
    "    hsv = hsv = cv2.cvtColor(median, cv2.COLOR_RGB2HSV)\n",
    "    scale = 0.75 # Nilai scale menyesuaikan kebutuhan\n",
    "    new_width = int(hsv.shape[1]*scale)\n",
    "    new_height = int(hsv.shape[0]*scale)\n",
    "    resized = cv2.resize(hsv,(new_width,new_height))\n",
    "    cv2.imwrite('C:/Users/muham/Desktop/lelah_TA/fix_data/test_data/preprocess/not_candle/tidak_pucat/image%02i.jpg'%i, resized)\n",
    "    i += 1"
   ]
  },
  {
   "cell_type": "code",
   "execution_count": null,
   "id": "dd3876aa-59c1-4784-801e-1bdf4a07b022",
   "metadata": {},
   "outputs": [],
   "source": [
    "# Pilih salah satu ROI aja kalo buat Testing, Saran gw pake ROI 1 atau 3\n",
    "# Kalo ga dapet di ROI 1 atau 3, baru pake ROI 2"
   ]
  },
  {
   "cell_type": "code",
   "execution_count": 9,
   "id": "277176fd-849b-47c1-abbd-92a48af61dd4",
   "metadata": {},
   "outputs": [],
   "source": [
    "# PREPROCESSING UNTUK DETEKSI RETAK\n",
    "\n",
    "os.mkdir('C:/Users/muham/Desktop/lelah_TA/fix_data/test_data/preprocess/candle/tidak_retak')\n",
    "path = glob.glob('C:/Users/muham/Desktop/lelah_TA/fix_data/test_data/candle/Telur Bagus/*.jpg')\n",
    "\n",
    "i = 0\n",
    "for image in path:\n",
    "    img = cv2.imread(image) #Import Image\n",
    "    gray = cv2.cvtColor(img, cv2.COLOR_RGB2GRAY)\n",
    "    gaussian_blur = cv2.GaussianBlur(gray, (5,5), 0)\n",
    "    canny = cv2.Canny(gaussian_blur,50,255)\n",
    "    kernel = np.ones((5,5), np.uint8)\n",
    "    dilation = cv2.dilate(canny, kernel, iterations=1)\n",
    "    invbinery = cv2.bitwise_not(dilation)\n",
    "    (T, binery) = cv2.threshold(invbinery, 0, 255, cv2.THRESH_BINARY)\n",
    "    imgAkhir = cv2.bitwise_and(img, img, mask = binery)\n",
    "    scale = 0.06\n",
    "    new_width = int(imgAkhir.shape[1]*scale)\n",
    "    new_height = int(imgAkhir.shape[0]*scale)\n",
    "    img_resized = cv2.resize(imgAkhir,(new_width,new_height)) #Rescale image\n",
    "    cv2.imwrite('C:/Users/muham/Desktop/lelah_TA/fix_data/test_data/preprocess/candle/tidak_retak/image%02i.jpg'%i, img_resized) #Simpan hasil preprocessing\n",
    "    i += 1"
   ]
  },
  {
   "cell_type": "code",
   "execution_count": null,
   "id": "c0e31004-a79e-43ed-ac3a-14f5517f53c0",
   "metadata": {},
   "outputs": [],
   "source": [
    "# Hasil Akhirnya RGB dgn size 150x150\n",
    "# Kalo mau size 227 scale = 0.0908\n",
    "# Kalo hasilnya gamau RGB hapus bagian imgAkhir"
   ]
  }
 ],
 "metadata": {
  "kernelspec": {
   "display_name": "Python 3 (ipykernel)",
   "language": "python",
   "name": "python3"
  },
  "language_info": {
   "codemirror_mode": {
    "name": "ipython",
    "version": 3
   },
   "file_extension": ".py",
   "mimetype": "text/x-python",
   "name": "python",
   "nbconvert_exporter": "python",
   "pygments_lexer": "ipython3",
   "version": "3.10.6"
  }
 },
 "nbformat": 4,
 "nbformat_minor": 5
}
